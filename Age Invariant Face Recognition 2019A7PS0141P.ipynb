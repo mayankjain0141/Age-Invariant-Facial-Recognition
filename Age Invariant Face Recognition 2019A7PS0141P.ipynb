{
 "cells": [
  {
   "cell_type": "markdown",
   "metadata": {
    "id": "KVlvu5bREWRQ"
   },
   "source": [
    "\n",
    "\n",
    "\n",
    "## Image Matching\n",
    "\n",
    "Image matching is an important concept in computer vision and object recognition. The images of the same subject can be acquired from different angles, lighting and scales. Therefore, it is best to find features that are descriptive and invariant to the aforementioned variations in order to categorize the images correctly.\n",
    "\n",
    "SIFT helps locate the local features in an image, commonly known as the ‘keypoints‘ of the image. These keypoints are scale & rotation invariant that can be used for various computer vision applications, like image matching, object detection, scene detection, etc.\n",
    "\n",
    "We can also use the keypoints generated using SIFT as features for the image during model training. The major advantage of SIFT features, over edge features or hog features, is that they are not affected by the size or orientation of the image."
   ]
  },
  {
   "cell_type": "code",
   "execution_count": null,
   "metadata": {
    "colab": {
     "base_uri": "https://localhost:8080/"
    },
    "id": "qeqArIGuERfk",
    "outputId": "5e3c2f87-caed-4b2d-db17-1806f794694f"
   },
   "outputs": [],
   "source": [
    "!pip uninstall opencv-python\n",
    "!pip uninstall opencv-contrib-python"
   ]
  },
  {
   "cell_type": "code",
   "execution_count": null,
   "metadata": {
    "colab": {
     "base_uri": "https://localhost:8080/"
    },
    "id": "ErScRfoJqeJr",
    "outputId": "55dc6d9b-8777-49d6-85c0-33492d3adb62"
   },
   "outputs": [],
   "source": [
    "!pip install opencv-python"
   ]
  },
  {
   "cell_type": "code",
   "execution_count": null,
   "metadata": {
    "colab": {
     "base_uri": "https://localhost:8080/"
    },
    "id": "0JhLl48yEcEl",
    "outputId": "4ae01eae-cbc9-4bad-bd15-e29b5ba0fa34"
   },
   "outputs": [],
   "source": [
    "from google.colab import drive\n",
    "drive.mount('/content/drive')"
   ]
  },
  {
   "cell_type": "code",
   "execution_count": null,
   "metadata": {
    "id": "K8vJnA36Ea1p"
   },
   "outputs": [],
   "source": [
    "import os\n",
    "import cv2\n",
    "import numpy as np\n",
    "from matplotlib import pyplot as plt\n",
    "from natsort import natsorted\n",
    "from tqdm import tqdm"
   ]
  },
  {
   "cell_type": "markdown",
   "metadata": {
    "id": "vjWQY21MFwpj"
   },
   "source": [
    "## Utility Functions"
   ]
  },
  {
   "cell_type": "markdown",
   "metadata": {
    "id": "M0E02yd9Fr17"
   },
   "source": [
    "### Extract Scores from Text File\n"
   ]
  },
  {
   "cell_type": "code",
   "execution_count": null,
   "metadata": {
    "id": "bEY6voIkFvq8"
   },
   "outputs": [],
   "source": [
    "def extract_genuine_imposter_scores(file_name,decimal_accuracy=2):\n",
    "  fp =  open(file_name, 'r')\n",
    "  scores_genuine = []\n",
    "  scores_imposter = []\n",
    "\n",
    "  for line in fp:\n",
    "    words = line.split(\" \")\n",
    "    if len(words)<2:\n",
    "      continue\n",
    "    img1 = words[0].split(\"-\")\n",
    "    img2 = words[1].split(\"-\")\n",
    "    score = round(float(words[2].rstrip()), decimal_accuracy)\n",
    "    if img1[2] == img2[2]:\n",
    "      continue\n",
    "    if img1[0] == img2[0]:\n",
    "      scores_genuine.append(score)\n",
    "    else:\n",
    "      scores_imposter.append(score)\n",
    "  fp.close()\n",
    "  # print(scores_genuine)\n",
    "  # print(scores_imposter)\n",
    "  return scores_genuine, scores_imposter"
   ]
  },
  {
   "cell_type": "code",
   "execution_count": null,
   "metadata": {},
   "outputs": [],
   "source": [
    "def extract_genuine_imposter_scores1(file_name,decimal_accuracy=2):\n",
    "  fp =  open(file_name, 'r')\n",
    "  scores_genuine = []\n",
    "  scores_imposter = []\n",
    "\n",
    "  for line in fp:\n",
    "    words = line.split(\" \")\n",
    "    if len(words)<6:\n",
    "      continue\n",
    "    img1 = words[0]\n",
    "    img2 = words[3]\n",
    "    \n",
    "    score = round(float(words[6].rstrip()), decimal_accuracy)\n",
    "    if f\"{words[0]}{words[1]}{words[2]}\" == f\"{words[3]}{words[4]}{words[5]}\":\n",
    "      continue\n",
    "    if img1 == img2:\n",
    "      scores_genuine.append(score)\n",
    "    else:\n",
    "      scores_imposter.append(score)\n",
    "  fp.close()\n",
    "  # print(scores_genuine)\n",
    "  # print(scores_imposter)\n",
    "  return scores_genuine, scores_imposter"
   ]
  },
  {
   "cell_type": "markdown",
   "metadata": {
    "id": "TU3Xy9O5E6mU"
   },
   "source": [
    "### Histogram "
   ]
  },
  {
   "cell_type": "code",
   "execution_count": null,
   "metadata": {
    "id": "2IxCCeGtHcd_"
   },
   "outputs": [],
   "source": [
    "def get_score_probability(scores,clip):\n",
    "  scores.sort()\n",
    "  new_scores = []\n",
    "  probability = []\n",
    "  i = 0\n",
    "  while(i<len(scores)):\n",
    "    if(scores[i]>clip):\n",
    "      break\n",
    "    cnt = scores.count(scores[i])\n",
    "    probability.append(cnt/len(scores))\n",
    "    new_scores.append(scores[i])\n",
    "    i += cnt\n",
    "  return new_scores, probability"
   ]
  },
  {
   "cell_type": "code",
   "execution_count": 241,
   "metadata": {
    "id": "e_n9MbTMEr_n"
   },
   "outputs": [],
   "source": [
    "def plot_histogram(scores_genuine,scores_imposter,clip=2,matcher=\"def\"):\n",
    "  \"\"\"\n",
    "  Function to plot the histogram between genuine and imposter scores\n",
    "  \"\"\" \n",
    "  score_gen_reduced, prob_gen = get_score_probability(scores_genuine,clip)\n",
    "  score_imp_reduced, prob_imp = get_score_probability(scores_imposter,clip)\n",
    "\n",
    "  plt.fill_between(score_gen_reduced, prob_gen,color=\"forestgreen\",alpha = 0.5)\n",
    "  plt.fill_between(score_imp_reduced, prob_imp,color=\"firebrick\", alpha = 0.5)\n",
    "  plt.title(f\"{matcher}\")\n",
    "  plt.xlabel('Match score')\n",
    "  plt.ylabel('Probability')\n",
    "  plt.legend(['Genuine', 'Imposter'])\n",
    "  # plt.show()\n",
    "  plt.plot()\n",
    "  "
   ]
  },
  {
   "cell_type": "markdown",
   "metadata": {
    "id": "5jTUSp-2E95F"
   },
   "source": [
    "### ROC Curve"
   ]
  },
  {
   "cell_type": "code",
   "execution_count": null,
   "metadata": {
    "id": "qZjiAEPVJfPp"
   },
   "outputs": [],
   "source": [
    "def get_far_frr(scores_genuine,scores_imposter,threshold):\n",
    "    n1 = len(scores_genuine)\n",
    "    n2 = len(scores_imposter)\n",
    "    N = n1+n2\n",
    "    far = len([x for x in scores_genuine if x < threshold]) / N\n",
    "    frr = len([x for x in scores_imposter if x >= threshold]) /N\n",
    "    return far, frr"
   ]
  },
  {
   "cell_type": "code",
   "execution_count": 232,
   "metadata": {},
   "outputs": [],
   "source": [
    "def get_far_frr_cosine(scores_genuine,scores_imposter,threshold):\n",
    "    n1 = len(scores_genuine)\n",
    "    n2 = len(scores_imposter)\n",
    "    N = n1+n2\n",
    "    far = len([x for x in scores_genuine if x >= threshold]) / N\n",
    "    frr = len([x for x in scores_imposter if x < threshold]) /N\n",
    "    return far, frr"
   ]
  },
  {
   "cell_type": "code",
   "execution_count": 233,
   "metadata": {
    "id": "vlnhE2ZkFFoY"
   },
   "outputs": [],
   "source": [
    "# Plots the ROC Curve and returns EER value\n",
    "def plot_ROC(scores_genuine, scores_imposter,matcher=\"def\",clip=0.5):    \n",
    "\n",
    "    N = len(scores_imposter) + len(scores_genuine)\n",
    "    FAR = []\n",
    "    FRR = []\n",
    "    EER = None\n",
    "    FAR_at_EER = None\n",
    "    FAR_at_ERR = None\n",
    "    accuracy = 0\n",
    "\n",
    "    min_dist = 1e5\n",
    "    for threshold in np.linspace(0,1,100):\n",
    "        cur_far, cur_frr = get_far_frr(scores_genuine, scores_imposter,threshold)\n",
    "        FAR.append(cur_far)        \n",
    "        FRR.append(cur_frr)\n",
    "        accuracy = max(accuracy, (100-(cur_far+cur_frr)/2))\n",
    "        # For the most optimal threshold value, the absolute difference \n",
    "        # between far and frr should be minimum.         \n",
    "        if abs(cur_far - cur_frr) < min_dist:\n",
    "            EER = round(threshold, 3)\n",
    "            min_dist = abs(cur_far - cur_frr)\n",
    "            FAR_at_EER = cur_far\n",
    "            FRR_at_EER = cur_frr\n",
    "\n",
    "    # Marking point where far == frr            \n",
    "    plt.plot(FRR_at_EER, FAR_at_EER, 'x')     \n",
    "    plt.plot(FAR, FRR)    \n",
    "    plt.title(f\"{matcher}\")\n",
    "    plt.xlabel(\"FRR\")\n",
    "    plt.ylabel(\"FAR\")\n",
    "    # plt.savefig(f\"ROC-{matcher}-{title}.png\")\n",
    "    \n",
    "    # Plotting y = x line\n",
    "    plt.plot(np.linspace(0,clip,100), np.linspace(0,clip,100), '--')\n",
    "\n",
    "    plt.legend([\"EER\", \"ROC\",\"y=x\"])\n",
    "    print(f\"The EER (optimal threshold value) is {EER}\")\n",
    "    print(f\"Accuracy is {accuracy}\")\n",
    "    return EER"
   ]
  },
  {
   "cell_type": "code",
   "execution_count": 234,
   "metadata": {},
   "outputs": [],
   "source": [
    "# Plots the ROC Curve and returns EER value\n",
    "def plot_ROC_cosine(scores_genuine, scores_imposter,matcher=\"def\",clip=0.5):    \n",
    "\n",
    "    N = len(scores_imposter) + len(scores_genuine)\n",
    "    FAR = []\n",
    "    FRR = []\n",
    "    EER = None\n",
    "    FAR_at_EER = None\n",
    "    FAR_at_ERR = None\n",
    "    accuracy = 0\n",
    "\n",
    "    min_dist = 1e5\n",
    "    for threshold in np.linspace(0,1,100):\n",
    "        cur_far, cur_frr = get_far_frr_cosine(scores_genuine, scores_imposter,threshold)\n",
    "        FAR.append(cur_far)        \n",
    "        FRR.append(cur_frr)\n",
    "        accuracy = max(accuracy, (100-(cur_far+cur_frr)/2))\n",
    "        # For the most optimal threshold value, the absolute difference \n",
    "        # between far and frr should be minimum.         \n",
    "        if abs(cur_far - cur_frr) < min_dist:\n",
    "            EER = round(threshold, 3)\n",
    "            min_dist = abs(cur_far - cur_frr)\n",
    "            FAR_at_EER = cur_far\n",
    "            FRR_at_EER = cur_frr\n",
    "\n",
    "    # Marking point where far == frr            \n",
    "    plt.plot(FRR_at_EER, FAR_at_EER, 'x')     \n",
    "    plt.plot(FAR, FRR)    \n",
    "    plt.title(f\"{matcher}\")\n",
    "    plt.xlabel(\"FRR\")\n",
    "    plt.ylabel(\"FAR\")\n",
    "    # plt.savefig(f\"ROC-{matcher}-{title}.png\")\n",
    "    \n",
    "    # Plotting y = x line\n",
    "    plt.plot(np.linspace(0,clip,100), np.linspace(0,clip,100), '--')\n",
    "\n",
    "    plt.legend([\"EER\", \"ROC\",\"y=x\"])\n",
    "    print(f\"The EER (optimal threshold value) is {EER}\")\n",
    "    print(f\"Accuracy is {accuracy}\")\n",
    "    return EER"
   ]
  },
  {
   "cell_type": "code",
   "execution_count": 235,
   "metadata": {
    "id": "oSktA4guFHfT"
   },
   "outputs": [],
   "source": [
    "def CRR(genuine, imposter,threshold):\n",
    "  \n",
    "  # FP = len([i for i in genuine if i<threshold])\n",
    "  # FN = len([i for i in imposter if i>=threshold])\n",
    "  TP = len([i for i in genuine if i>=threshold])\n",
    "  TN = len([i for i in imposter if i<threshold])\n",
    "\n",
    "  return (TP+TN)*100/(len(genuine)+len(imposter))"
   ]
  },
  {
   "cell_type": "markdown",
   "metadata": {
    "id": "GQBKZZTiyCeT"
   },
   "source": [
    "### Discriminative Index (DI)\n"
   ]
  },
  {
   "cell_type": "code",
   "execution_count": null,
   "metadata": {
    "id": "KxdnXRXryB97"
   },
   "outputs": [],
   "source": [
    "import statistics\n",
    "import math\n",
    "\n",
    "def get_DI(genuine, imposter):\n",
    "  mean_gen = statistics.mean(genuine)\n",
    "  mean_imp = statistics.mean(imposter)\n",
    "  var_gen = statistics.variance(genuine)\n",
    "  var_imp = statistics.variance(imposter)\n",
    "  return abs(mean_gen-mean_imp)/(math.sqrt(var_gen+var_imp))\n"
   ]
  },
  {
   "cell_type": "markdown",
   "metadata": {
    "id": "_G4TC9uzMyqU"
   },
   "source": [
    "## Image Enhancement "
   ]
  },
  {
   "cell_type": "code",
   "execution_count": null,
   "metadata": {
    "id": "cMq182NUN8oP"
   },
   "outputs": [],
   "source": [
    "th = 80\n",
    "max_val = 255\n",
    "clahe = cv2.createCLAHE(clipLimit=40)"
   ]
  },
  {
   "cell_type": "code",
   "execution_count": null,
   "metadata": {
    "id": "Z5Ke4F_RM4U5"
   },
   "outputs": [],
   "source": [
    "def enhance_grayscale(img):\n",
    "  return cv2.cvtColor(img,cv2.COLOR_BGR2GRAY)\n",
    "\n",
    "def enhance_equalize_histogram(img):  \n",
    "  return cv2.equalizeHist(enhance_grayscale(img))\n",
    "\n",
    "def enhance_clahe(img):\n",
    "  return clahe.apply(enhance_equalize_histogram(img))\n",
    "\n",
    "def enhance_ostu(img):\n",
    "  ret ,o6=  cv2.threshold(enhance_clahe(img), th, max_val,  cv2.THRESH_OTSU)\n",
    "  return ret"
   ]
  },
  {
   "cell_type": "code",
   "execution_count": null,
   "metadata": {
    "id": "SL-05yB2p3rk"
   },
   "outputs": [],
   "source": [
    "enhancement = [\"grayscale\",\"eq_hist\",\"clahe\",\"ostu\"]\n",
    "\n",
    "def enhance(img, option):\n",
    "  if option == 1:\n",
    "    return enhance_grayscale(img)\n",
    "  elif option == 2:\n",
    "    return enhance_equalize_histogram(img)\n",
    "  elif option == 3:\n",
    "    return enhance_clahe(img) \n",
    "  else:\n",
    "    return enhance_ostu(img)"
   ]
  },
  {
   "cell_type": "markdown",
   "metadata": {
    "id": "cdHPjRkjqDdw"
   },
   "source": [
    "## Preprocessing Images"
   ]
  },
  {
   "cell_type": "code",
   "execution_count": null,
   "metadata": {
    "id": "nx4JiBRlprH3"
   },
   "outputs": [],
   "source": [
    "path1 =   '/home/mayank/Documents/3-2/DL/Class Project/DL Images/' #/content/drive/MyDrive/Deep Learning/teethData/'\n",
    "output_path = '/home/mayank/Documents/3-2/DL/Class Project/Output/' #/content/drive/MyDrive/Deep Learning/clahe/\n",
    "\n",
    "\n",
    "# for images in natsorted(os.listdir(path1)):\n",
    "#     img1 = os.path.join(path1, images)\n",
    "#     image = cv2.imread(img1) \n",
    "#     image_bw = cv2.cvtColor(image, cv2.COLOR_BGR2GRAY)            # Conversion to grayscale\n",
    "#     clahe = cv2.createCLAHE(clipLimit = 2.0,tileGridSize = (8,8)) # CLAHE\n",
    "#     final_img = clahe.apply(image_bw)\n",
    "#     cv2_imshow(final_img)\n",
    "#     # break\n",
    "#     cv2.imwrite(os.path.join(output_path,images),final_img)      # Saving the enhanced images"
   ]
  },
  {
   "cell_type": "markdown",
   "metadata": {
    "id": "OHTdpbIeF4cT"
   },
   "source": [
    "## Feature Extractor Experiments"
   ]
  },
  {
   "cell_type": "code",
   "execution_count": null,
   "metadata": {
    "id": "9-BX-XW6PkcG"
   },
   "outputs": [],
   "source": [
    "root_path = '/home/mayank/Documents/3-2/DL/Class Project/'\n",
    "images_path = \"/home/mayank/Documents/3-2/DL/Class Project/Output3-20220322T085929Z-001/Output3/\""
   ]
  },
  {
   "cell_type": "markdown",
   "metadata": {
    "id": "nC8RqfnWFIIu"
   },
   "source": [
    "### SIFT "
   ]
  },
  {
   "cell_type": "markdown",
   "metadata": {
    "id": "XTP8kjeuOnMZ"
   },
   "source": [
    "#### Generating SIFT Matching Scores"
   ]
  },
  {
   "cell_type": "code",
   "execution_count": null,
   "metadata": {
    "id": "1fKkxFl2FKzH"
   },
   "outputs": [],
   "source": [
    "def generate_sift_scores():\n",
    "  \n",
    "  file_sift = open(f\"sift.txt\", \"r+\")  \n",
    "  \n",
    "  sift = cv2.SIFT_create()\n",
    "  bf = cv2.BFMatcher()\n",
    "\n",
    "# from google.colab.patches import cv2_imshow\n",
    "\n",
    "  for images in natsorted(os.listdir(images_path)):\n",
    "\n",
    "      str1 = str(images)\n",
    "      img1 = os.path.join(images_path, images)\n",
    "      img1 = cv2.imread(img1)\n",
    "      kp1, des1 = sift.detectAndCompute(img1,None)\n",
    "      if len(kp1)>0:\n",
    "        for image in natsorted(os.listdir(images_path)):\n",
    "            str2 = str(image)\n",
    "            img2 = os.path.join(images_path, image)\n",
    "            if (img1 != img2): # queryImage\n",
    "                img2 = cv2.imread(img2) # trainImage\n",
    "                kp2, des2 = sift.detectAndCompute(img2,None)\n",
    "                if des2 is None:\n",
    "                  continue\n",
    "                matches = bf.knnMatch(des1,des2, k=2)\n",
    "                dis = bf.match(des1,des2)\n",
    "                number_keypoints = 0\n",
    "                if len(kp1) <= len(kp2):\n",
    "                    number_keypoints = len(kp1)\n",
    "                else:\n",
    "                    number_keypoints = len(kp2)\n",
    "                good = []\n",
    "                for item in matches:\n",
    "                  if len(item)<2:\n",
    "                    continue\n",
    "                  m,n = item\n",
    "                  if m.distance < 0.7*n.distance:\n",
    "                        good.append([m])      \n",
    "                score = len(good) / number_keypoints\n",
    "                #print(\"How good it's the match: \", score) #* 100, \"%\")\n",
    "                file_sift.write( str1 + \" \" + str2 + \" \" + str(score)+\"\\n\")\n",
    "                print(str1 + \" \" + str2 + \" \" + str(score)) # replace with 'cos' if using cosine similarity\n",
    "  file_sift.close()"
   ]
  },
  {
   "cell_type": "code",
   "execution_count": null,
   "metadata": {
    "colab": {
     "base_uri": "https://localhost:8080/",
     "height": 1000
    },
    "id": "Hzjwj1VqOw6y",
    "outputId": "f9d73aff-3bb8-4c2c-e1d4-84f73cb44c71"
   },
   "outputs": [],
   "source": [
    "# # Execute only Once\n",
    "# generate_sift_scores()"
   ]
  },
  {
   "cell_type": "markdown",
   "metadata": {
    "id": "PYHDMurCOtF6"
   },
   "source": [
    "#### Results"
   ]
  },
  {
   "cell_type": "markdown",
   "metadata": {
    "id": "w_ZV4gtALo9X"
   },
   "source": [
    "SIFT Matching Results \n"
   ]
  },
  {
   "cell_type": "code",
   "execution_count": 242,
   "metadata": {
    "colab": {
     "base_uri": "https://localhost:8080/",
     "height": 295
    },
    "id": "YcE2zuLwLoMd",
    "outputId": "28fad780-8f84-4353-b228-5e639d41a0a9"
   },
   "outputs": [
    {
     "data": {
      "image/png": "[encoded data removed]",
      "text/plain": [
       "<Figure size 432x288 with 1 Axes>"
      ]
     },
     "metadata": {
      "needs_background": "light"
     },
     "output_type": "display_data"
    }
   ],
   "source": [
    "results = os.path.join(root_path,f\"sift.txt\")\n",
    "genuine, imposter = extract_genuine_imposter_scores1(results)\n",
    "plot_histogram(genuine,imposter,matcher=\"sift\",clip=0.2)\n",
    "plt.savefig(f\"hist-sift.png\")"
   ]
  },
  {
   "cell_type": "code",
   "execution_count": 256,
   "metadata": {
    "colab": {
     "base_uri": "https://localhost:8080/",
     "height": 419
    },
    "id": "fKRV0W6XL5Jx",
    "outputId": "aad2205a-57bf-4088-e8d3-077ece3f4db2"
   },
   "outputs": [
    {
     "name": "stdout",
     "output_type": "stream",
     "text": [
      "The EER (optimal threshold value) is 0.01\n",
      "Accuracy is 99.96742134086719\n"
     ]
    },
    {
     "data": {
      "image/png": "[encoded data removed]",
      "text/plain": [
       "<Figure size 432x288 with 1 Axes>"
      ]
     },
     "metadata": {
      "needs_background": "light"
     },
     "output_type": "display_data"
    }
   ],
   "source": [
    "results = os.path.join(root_path,f\"sift.txt\")\n",
    "genuine, imposter = extract_genuine_imposter_scores1(results)\n",
    "EER = plot_ROC(genuine,imposter,matcher=\"sift\",clip=0.2)\n",
    "# print(f\"CRR  = {CRR(genuine,imposter,EER)}\")\n",
    "# print(f\"Discriminative Index(DI) = {get_DI(genuine,imposter)}\")\n",
    "plt.savefig(f\"ROC-sift.png\")"
   ]
  },
  {
   "cell_type": "markdown",
   "metadata": {
    "id": "yJ32HVT0FLRK"
   },
   "source": [
    "### AKAZE"
   ]
  },
  {
   "cell_type": "markdown",
   "metadata": {},
   "source": [
    "#### Generating AKAZE Matching Scores"
   ]
  },
  {
   "cell_type": "code",
   "execution_count": null,
   "metadata": {
    "id": "uIadwrxrFUIk"
   },
   "outputs": [],
   "source": [
    "def generate_akaze_scores(option):  \n",
    "\n",
    "  file_akaze = open(f\"akaze.txt\", \"w+\")  \n",
    "  akaze = cv2.AKAZE_create()\n",
    "  bf = cv2.BFMatcher()\n",
    "  \n",
    "  for images in natsorted(os.listdir(images_path)):\n",
    "\n",
    "      str1 = str(images)\n",
    "      img1 = os.path.join(images_path, images)\n",
    "      img1 = cv2.imread(img1)\n",
    "      kp1, des1 = akaze.detectAndCompute(img1,None)\n",
    "      if len(kp1)>0:\n",
    "        for image in natsorted(os.listdir(images_path)):\n",
    "            str2 = str(image)\n",
    "            img2 = os.path.join(images_path, image)\n",
    "            if (img1 != img2): # queryImage\n",
    "                img2 = cv2.imread(img2) # trainImage\n",
    "                img2 = enhance(img2,option)                \n",
    "                kp2, des2 = akaze.detectAndCompute(img2,None)\n",
    "                if des2 is None:\n",
    "                  continue\n",
    "                matches = bf.knnMatch(des1,des2, k=2)\n",
    "                dis = bf.match(des1,des2)\n",
    "              #----------------------------------------------\n",
    "                number_keypoints = 0\n",
    "                if len(kp1) <= len(kp2):\n",
    "                    number_keypoints = len(kp1)\n",
    "                else:\n",
    "                    number_keypoints = len(kp2)\n",
    "                good = []\n",
    "                for item in matches:\n",
    "                  if len(item)<2:\n",
    "                    continue\n",
    "                  m,n = item\n",
    "                  if m.distance < 0.7*n.distance:\n",
    "                        good.append([m])      \n",
    "                score = len(good) / number_keypoints\n",
    "              #print(\"How good it's the match: \", score) #* 100, \"%\")\n",
    "                file_akaze.write( str1 + \" \" + str2 + \" \" + str(score)+\"\\n\")\n",
    "                print(str1 + \" \" + str2 + \" \" + str(score)) # replace with 'cos' if using cosine similarity\n",
    "  file_akaze.close()"
   ]
  },
  {
   "cell_type": "code",
   "execution_count": null,
   "metadata": {
    "colab": {
     "base_uri": "https://localhost:8080/",
     "height": 305
    },
    "id": "RoMu5MSYPDje",
    "outputId": "fcf89ed3-ef3f-4dec-80d2-df925be6899c"
   },
   "outputs": [],
   "source": [
    "## Execute only Once\n",
    "# generate_akaze_scores()"
   ]
  },
  {
   "cell_type": "code",
   "execution_count": 244,
   "metadata": {
    "colab": {
     "base_uri": "https://localhost:8080/",
     "height": 279
    },
    "id": "4BSXrE8pn8II",
    "outputId": "d3f4bab2-1c0c-4f45-b814-4955548dbf26"
   },
   "outputs": [
    {
     "data": {
      "image/png": "[encoded data removed]",
      "text/plain": [
       "<Figure size 432x288 with 1 Axes>"
      ]
     },
     "metadata": {
      "needs_background": "light"
     },
     "output_type": "display_data"
    }
   ],
   "source": [
    "results = os.path.join(root_path,f\"akaze.txt\")\n",
    "genuine, imposter = extract_genuine_imposter_scores1(results)\n",
    "plot_histogram(genuine,imposter,matcher=\"akaze\",clip=0.3)\n",
    "plt.savefig(f\"hist-akaze.png\")"
   ]
  },
  {
   "cell_type": "code",
   "execution_count": 255,
   "metadata": {
    "id": "Uu3lj1XqH1-w"
   },
   "outputs": [
    {
     "name": "stdout",
     "output_type": "stream",
     "text": [
      "The EER (optimal threshold value) is 0.01\n",
      "Accuracy is 99.96690550483454\n"
     ]
    },
    {
     "data": {
      "image/png": "[encoded data removed]",
      "text/plain": [
       "<Figure size 432x288 with 1 Axes>"
      ]
     },
     "metadata": {
      "needs_background": "light"
     },
     "output_type": "display_data"
    }
   ],
   "source": [
    "results = os.path.join(root_path,f\"akaze.txt\")\n",
    "genuine, imposter = extract_genuine_imposter_scores1(results)\n",
    "EER = plot_ROC(genuine,imposter,matcher=\"akaze\",clip=0.1)\n",
    "# print(f\"CRR  = {CRR(genuine,imposter,EER)}\")\n",
    "# print(f\"Discriminative Index(DI) = {get_DI(genuine,imposter)}\")\n",
    "plt.savefig(f\"ROC-akaze.png\")"
   ]
  },
  {
   "cell_type": "markdown",
   "metadata": {
    "id": "1D_fd8VaFVLt"
   },
   "source": [
    "## ORB"
   ]
  },
  {
   "cell_type": "markdown",
   "metadata": {},
   "source": [
    "#### Generating ORB Matching Scores"
   ]
  },
  {
   "cell_type": "code",
   "execution_count": null,
   "metadata": {
    "id": "1dPAtM_xGITe"
   },
   "outputs": [],
   "source": [
    "def generate_orb_scores():\n",
    "  file_orb = open(\"/content/drive/MyDrive/orb2.txt\", \"w+\")\n",
    "\n",
    "  orb = cv2.ORB_create()\n",
    "  bf = cv2.BFMatcher()\n",
    "  for images in natsorted(os.listdir(images_path)):      \n",
    "      str1 = str(images)\n",
    "      img1 = os.path.join(images_path, images)\n",
    "      print(images[0:2])\n",
    "      img1 = cv2.imread(img1)\n",
    "      kp1, des1 = orb.detectAndCompute(img1,None)\n",
    "      if len(kp1)>0:\n",
    "        for image in natsorted(os.listdir(images_path)):\n",
    "            count+=1\n",
    "            if count<35835:\n",
    "              continue\n",
    "            img2 = os.path.join(images_path, image)\n",
    "            str2 = str(image)\n",
    "            if (img1 != img2): # queryImage\n",
    "                img2 = cv2.imread(img2) # trainImage\n",
    "                kp2, des2 = orb.detectAndCompute(img2,None)\n",
    "                if des2 is None:\n",
    "                  continue\n",
    "                matches = bf.knnMatch(des1,des2, k=2)\n",
    "                dis = bf.match(des1,des2)\n",
    "              #----------------------------------------------\n",
    "                number_keypoints = 0\n",
    "                if len(kp1) <= len(kp2):\n",
    "                    number_keypoints = len(kp1)\n",
    "                else:\n",
    "                    number_keypoints = len(kp2)\n",
    "                good = []\n",
    "                for item in matches:\n",
    "                  if len(item)<2:\n",
    "                    continue\n",
    "                  m,n = item\n",
    "                  if m.distance < 0.7*n.distance:\n",
    "                        good.append([m])\n",
    "                score = len(good) / number_keypoints\n",
    "              #print(\"How good it's the match: \", score) #* 100, \"%\")\n",
    "                file_orb.write( str1 + \" \" + str2 + \" \" + str(score)+\"\\n\")\n",
    "                print(str1 + \" \" + str2 + \" \" + str(score)) # replace with 'cos' if using cosine similarity\n",
    "  file_orb.close()"
   ]
  },
  {
   "cell_type": "code",
   "execution_count": null,
   "metadata": {
    "colab": {
     "base_uri": "https://localhost:8080/"
    },
    "id": "ejbnd0ZgPI2w",
    "outputId": "a482dfaf-86da-47d2-fc5d-f55abbe11d96"
   },
   "outputs": [],
   "source": [
    "## Execute only Once\n",
    "# generate_orb_scores()"
   ]
  },
  {
   "cell_type": "code",
   "execution_count": 246,
   "metadata": {
    "colab": {
     "base_uri": "https://localhost:8080/",
     "height": 295
    },
    "id": "CMP7dRf5FXYZ",
    "outputId": "3e9fd902-efd3-4fc3-e19d-96781a164583"
   },
   "outputs": [
    {
     "data": {
      "image/png": "[encoded data removed]",
      "text/plain": [
       "<Figure size 432x288 with 1 Axes>"
      ]
     },
     "metadata": {
      "needs_background": "light"
     },
     "output_type": "display_data"
    }
   ],
   "source": [
    "results = os.path.join(root_path,f\"orb.txt\")\n",
    "genuine, imposter = extract_genuine_imposter_scores(results)\n",
    "\n",
    "plot_histogram(genuine,imposter,matcher=\"orb\",clip=0.1)\n",
    "plt.savefig(f\"hist-orb.png\")"
   ]
  },
  {
   "cell_type": "code",
   "execution_count": 254,
   "metadata": {
    "colab": {
     "base_uri": "https://localhost:8080/",
     "height": 365
    },
    "id": "qyT5SFPspAQK",
    "outputId": "e7012fac-b66c-4477-8f75-2b4acc281397"
   },
   "outputs": [
    {
     "name": "stdout",
     "output_type": "stream",
     "text": [
      "The EER (optimal threshold value) is 0.02\n",
      "Accuracy is 99.96748335987586\n"
     ]
    },
    {
     "data": {
      "image/png": "[encoded data removed]",
      "text/plain": [
       "<Figure size 432x288 with 1 Axes>"
      ]
     },
     "metadata": {
      "needs_background": "light"
     },
     "output_type": "display_data"
    }
   ],
   "source": [
    "results = os.path.join(root_path,f\"orb.txt\")\n",
    "genuine, imposter = extract_genuine_imposter_scores(results)\n",
    "EER = plot_ROC(genuine,imposter,matcher=\"orb\")\n",
    "# print(f\"CRR  = {CRR(genuine,imposter,EER)}\")\n",
    "# print(f\"Discriminative Index(DI) = {get_DI(genuine,imposter)}\")\n",
    "plt.savefig(f\"ROC-orb.png\")"
   ]
  },
  {
   "cell_type": "markdown",
   "metadata": {
    "id": "Ekx4BSerFYDF"
   },
   "source": [
    "## ArcFace"
   ]
  },
  {
   "cell_type": "code",
   "execution_count": null,
   "metadata": {
    "colab": {
     "base_uri": "https://localhost:8080/"
    },
    "id": "Bg0XWYJ0q-rZ",
    "outputId": "c37f25cf-7e1a-44c3-d1af-42a61daf8622"
   },
   "outputs": [],
   "source": [
    "!pip install arcface\n",
    "# Linux\n",
    "!python3 -m pip install --user astropy\n",
    "# Windows\n",
    "#!python -m pip install --user astropy"
   ]
  },
  {
   "cell_type": "code",
   "execution_count": null,
   "metadata": {
    "id": "YqNSuejeuWFG"
   },
   "outputs": [],
   "source": [
    "from arcface import ArcFace"
   ]
  },
  {
   "cell_type": "code",
   "execution_count": null,
   "metadata": {
    "id": "_MGvVQ5DutqR"
   },
   "outputs": [],
   "source": [
    "def generate_arcface_scores():\n",
    "  file_arcface = open(\"arcface2.txt\", \"w+\")\n",
    "  face_rec = ArcFace.ArcFace()\n",
    "  \n",
    "  for images in natsorted(os.listdir(images_path)):\n",
    "      str1 = str(images)\n",
    "      img1 = os.path.join(images_path, images)    \n",
    "      img1 = cv2.imread(img1)    \n",
    "      emb1 = face_rec.calc_emb(img1)\n",
    "      \n",
    "      for image in natsorted(os.listdir(images_path)):\n",
    "              img2 = os.path.join(images_path, image)\n",
    "              str2 = str(image)\n",
    "              img1_split = str1.split(\"-\")\n",
    "              img2_split = str2.split(\"-\")\n",
    "              if img1_split[2] != img2_split[2]:\n",
    "                  if (img1 != img2): # queryImage\n",
    "                      img2 = cv2.imread(img2) # trainImage\n",
    "                      emb2 = face_rec.calc_emb(img2)                    \n",
    "                      score = face_rec.get_distance_embeddings(emb1, emb2)\n",
    "                  print( str1 + \" \" + str2 + \" \" + str(score))\n",
    "                  file_arcface.write( str1 + \" \" + str2 + \" \" + str(score)+\"\\n\")\n",
    "  file_arcface.close()"
   ]
  },
  {
   "cell_type": "code",
   "execution_count": null,
   "metadata": {
    "colab": {
     "base_uri": "https://localhost:8080/"
    },
    "id": "osnVvjIvPUAc",
    "outputId": "2c3be5a9-9b9c-4ea8-9a41-0ec4422df9eb"
   },
   "outputs": [],
   "source": [
    "## Execute only Once\n",
    "# generate_arcface_scores()"
   ]
  },
  {
   "cell_type": "code",
   "execution_count": 248,
   "metadata": {
    "colab": {
     "base_uri": "https://localhost:8080/",
     "height": 279
    },
    "id": "ix2dFWV4FZMo",
    "outputId": "916977f8-530c-46cc-e623-e2666e084a5f"
   },
   "outputs": [
    {
     "data": {
      "image/png": "[encoded data removed]",
      "text/plain": [
       "<Figure size 432x288 with 1 Axes>"
      ]
     },
     "metadata": {
      "needs_background": "light"
     },
     "output_type": "display_data"
    }
   ],
   "source": [
    "results = os.path.join(root_path,f\"arcface.txt\")\n",
    "genuine, imposter = extract_genuine_imposter_scores(results)\n",
    "plot_histogram(genuine,imposter,matcher=\"arcface\")\n",
    "plt.savefig(f\"hist-arcface.png\")"
   ]
  },
  {
   "cell_type": "code",
   "execution_count": 253,
   "metadata": {
    "colab": {
     "base_uri": "https://localhost:8080/",
     "height": 350
    },
    "id": "7Zf2Q6mzKymT",
    "outputId": "c6fc0973-1ce9-4e45-cf5e-6e0d4b2a7117"
   },
   "outputs": [
    {
     "name": "stdout",
     "output_type": "stream",
     "text": [
      "The EER (optimal threshold value) is 0.808\n",
      "Accuracy is 99.96765894891584\n"
     ]
    },
    {
     "data": {
      "image/png": "[encoded data removed]",
      "text/plain": [
       "<Figure size 432x288 with 1 Axes>"
      ]
     },
     "metadata": {
      "needs_background": "light"
     },
     "output_type": "display_data"
    }
   ],
   "source": [
    "results = os.path.join(root_path,f\"arcface.txt\")\n",
    "genuine, imposter = extract_genuine_imposter_scores(results)\n",
    "EER = plot_ROC_cosine(genuine,imposter,matcher=\"arcface\")\n",
    "# print(f\"CRR  = {CRR(genuine,imposter,1.5*EER)}\")\n",
    "# print(f\"Discriminative Index(DI) = {get_DI(genuine,imposter)}\")\n",
    "plt.savefig(f\"ROC-arcface.png\")"
   ]
  },
  {
   "cell_type": "markdown",
   "metadata": {},
   "source": [
    "### VGGFace"
   ]
  },
  {
   "cell_type": "markdown",
   "metadata": {},
   "source": [
    "#### Define VGGFace model and load our weights"
   ]
  },
  {
   "cell_type": "code",
   "execution_count": null,
   "metadata": {
    "id": "lnQuZr1vK2w5"
   },
   "outputs": [],
   "source": [
    "import numpy as np\n",
    "from PIL import Image\n",
    "import matplotlib.pyplot as plt\n",
    "from tensorflow.keras.models import Model, Sequential\n",
    "from tensorflow.keras.layers import Input, Convolution2D, ZeroPadding2D, MaxPooling2D, Flatten, Dense, Dropout, Activation\n",
    "from tensorflow.keras.preprocessing.image import load_img, save_img, img_to_array\n",
    "from tensorflow.keras.applications.imagenet_utils import preprocess_input\n",
    "from tensorflow.keras.preprocessing import image"
   ]
  },
  {
   "cell_type": "code",
   "execution_count": null,
   "metadata": {},
   "outputs": [],
   "source": [
    "model = Sequential()\n",
    "model.add(ZeroPadding2D((1,1),input_shape=(224,224, 3)))\n",
    "model.add(Convolution2D(64, (3, 3), activation='relu'))\n",
    "model.add(ZeroPadding2D((1,1)))\n",
    "model.add(Convolution2D(64, (3, 3), activation='relu'))\n",
    "model.add(MaxPooling2D((2,2), strides=(2,2)))\n",
    "\n",
    "model.add(ZeroPadding2D((1,1)))\n",
    "model.add(Convolution2D(128, (3, 3), activation='relu'))\n",
    "model.add(ZeroPadding2D((1,1)))\n",
    "model.add(Convolution2D(128, (3, 3), activation='relu'))\n",
    "model.add(MaxPooling2D((2,2), strides=(2,2)))\n",
    "\n",
    "model.add(ZeroPadding2D((1,1)))\n",
    "model.add(Convolution2D(256, (3, 3), activation='relu'))\n",
    "model.add(ZeroPadding2D((1,1)))\n",
    "model.add(Convolution2D(256, (3, 3), activation='relu'))\n",
    "model.add(ZeroPadding2D((1,1)))\n",
    "model.add(Convolution2D(256, (3, 3), activation='relu'))\n",
    "model.add(MaxPooling2D((2,2), strides=(2,2)))\n",
    "\n",
    "model.add(ZeroPadding2D((1,1)))\n",
    "model.add(Convolution2D(512, (3, 3), activation='relu'))\n",
    "model.add(ZeroPadding2D((1,1)))\n",
    "model.add(Convolution2D(512, (3, 3), activation='relu'))\n",
    "model.add(ZeroPadding2D((1,1)))\n",
    "model.add(Convolution2D(512, (3, 3), activation='relu'))\n",
    "model.add(MaxPooling2D((2,2), strides=(2,2)))\n",
    "\n",
    "model.add(ZeroPadding2D((1,1)))\n",
    "model.add(Convolution2D(512, (3, 3), activation='relu'))\n",
    "model.add(ZeroPadding2D((1,1)))\n",
    "model.add(Convolution2D(512, (3, 3), activation='relu'))\n",
    "model.add(ZeroPadding2D((1,1)))\n",
    "model.add(Convolution2D(512, (3, 3), activation='relu'))\n",
    "model.add(MaxPooling2D((2,2), strides=(2,2)))\n",
    "\n",
    "model.add(Convolution2D(4096, (7, 7), activation='relu'))\n",
    "model.add(Dropout(0.5))\n",
    "model.add(Convolution2D(4096, (1, 1), activation='relu'))\n",
    "model.add(Dropout(0.5))\n",
    "model.add(Convolution2D(2622, (1, 1)))\n",
    "model.add(Flatten())\n",
    "model.add(Activation('softmax'))"
   ]
  },
  {
   "cell_type": "code",
   "execution_count": null,
   "metadata": {},
   "outputs": [],
   "source": [
    "model.summary()"
   ]
  },
  {
   "cell_type": "code",
   "execution_count": null,
   "metadata": {},
   "outputs": [],
   "source": [
    "# # Download the pretrained weights from the following link \n",
    "# # https://drive.google.com/file/d/1CPSeum3HpopfomUEK1gybeuIVoeJT_Eo/view?usp=sharing\n",
    "# !pip install gdown\n",
    "# !gdown --id 14eHppxprE1sCWmnjQ7LuijhAZQlb_Quz"
   ]
  },
  {
   "cell_type": "code",
   "execution_count": null,
   "metadata": {},
   "outputs": [],
   "source": [
    "model.load_weights('vgg_face_weights.h5')"
   ]
  },
  {
   "cell_type": "code",
   "execution_count": null,
   "metadata": {},
   "outputs": [],
   "source": [
    "def preprocess_image(image_path):\n",
    "    img = load_img(image_path, target_size=(224, 224))\n",
    "    img = img_to_array(img)\n",
    "    img = np.expand_dims(img, axis=0)\n",
    "    img = preprocess_input(img)\n",
    "    return img\n",
    "\n",
    "def findCosineSimilarity(source_representation, test_representation):\n",
    "    a = np.matmul(np.transpose(source_representation), test_representation)\n",
    "    b = np.sum(np.multiply(source_representation, source_representation))\n",
    "    c = np.sum(np.multiply(test_representation, test_representation))\n",
    "    return 1 - (a / (np.sqrt(b) * np.sqrt(c)))\n",
    "\n",
    "# Our model that outputs the 2,622 embedding vector\n",
    "vgg_face_descriptor = Model(inputs=model.layers[0].input, outputs=model.layers[-2].output)"
   ]
  },
  {
   "cell_type": "code",
   "execution_count": null,
   "metadata": {},
   "outputs": [],
   "source": [
    "epsilon = 0.40\n",
    "\n",
    "def generate_vgg_scores():\n",
    "  \n",
    "  file_sift = open(f\"vgg.txt\", \"w+\")    \n",
    "  for images in natsorted(os.listdir(images_path)):\n",
    "\n",
    "      str1 = str(images)\n",
    "      img1 = os.path.join(images_path, images)\n",
    "      \n",
    "      for image in natsorted(os.listdir(images_path)):\n",
    "          str2 = str(image)           \n",
    "          img2 = os.path.join(images_path, image)\n",
    "          if (img1 != img2): # queryImage\n",
    "              # Get embedding/encoding for face1 and face2\n",
    "              img1_representation = vgg_face_descriptor.predict(preprocess_image(img1))[0,:]\n",
    "              img2_representation = vgg_face_descriptor.predict(preprocess_image(img2))[0,:]\n",
    "              cosine_similarity = findCosineSimilarity(img1_representation, img2_representation)\n",
    "              score = cosine_similarity               \n",
    "              file_sift.write( str1 + \" \" + str2 + \" \" + str(score)+\"\\n\")\n",
    "              print(str1 + \" \" + str2 + \" \" + str(score)) # replace with 'cos' if using cosine similarity\n",
    "  file_sift.close()"
   ]
  },
  {
   "cell_type": "code",
   "execution_count": null,
   "metadata": {},
   "outputs": [],
   "source": [
    "# Execute only once\n",
    "# generate_vgg_scores()"
   ]
  },
  {
   "cell_type": "code",
   "execution_count": 250,
   "metadata": {},
   "outputs": [
    {
     "data": {
      "image/png": "[encoded data removed]",
      "text/plain": [
       "<Figure size 432x288 with 1 Axes>"
      ]
     },
     "metadata": {
      "needs_background": "light"
     },
     "output_type": "display_data"
    }
   ],
   "source": [
    "results = os.path.join(root_path,f\"vgg.txt\")\n",
    "genuine, imposter = extract_genuine_imposter_scores(results)\n",
    "plot_histogram(genuine,imposter,matcher=\"VGGFace\")\n",
    "plt.savefig(f\"hist-VGGFace.png\")"
   ]
  },
  {
   "cell_type": "code",
   "execution_count": 252,
   "metadata": {},
   "outputs": [
    {
     "name": "stdout",
     "output_type": "stream",
     "text": [
      "The EER (optimal threshold value) is 0.747\n",
      "Accuracy is 99.96708079387405\n"
     ]
    },
    {
     "data": {
      "image/png": "[encoded data removed]",
      "text/plain": [
       "<Figure size 432x288 with 1 Axes>"
      ]
     },
     "metadata": {
      "needs_background": "light"
     },
     "output_type": "display_data"
    }
   ],
   "source": [
    "results = os.path.join(root_path,f\"vgg.txt\")\n",
    "genuine, imposter = extract_genuine_imposter_scores(results)\n",
    "EER = plot_ROC(genuine,imposter,matcher=\"VGGFace\")\n",
    "# print(f\"CRR  = {CRR_cosine(genuine,imposter,EER)}\")\n",
    "# print(f\"Discriminative Index(DI) = {get_DI(genuine,imposter)}\")\n",
    "plt.savefig(f\"ROC-VGGFace.png\")"
   ]
  },
  {
   "cell_type": "code",
   "execution_count": null,
   "metadata": {},
   "outputs": [],
   "source": []
  },
  {
   "cell_type": "code",
   "execution_count": null,
   "metadata": {},
   "outputs": [],
   "source": []
  },
  {
   "cell_type": "code",
   "execution_count": null,
   "metadata": {},
   "outputs": [],
   "source": []
  }
 ],
 "metadata": {
  "accelerator": "GPU",
  "colab": {
   "collapsed_sections": [],
   "name": "Forehead Recognition.ipynb",
   "provenance": []
  },
  "kernelspec": {
   "display_name": "Python 3 (ipykernel)",
   "language": "python",
   "name": "python3"
  },
  "language_info": {
   "codemirror_mode": {
    "name": "ipython",
    "version": 3
   },
   "file_extension": ".py",
   "mimetype": "text/x-python",
   "name": "python",
   "nbconvert_exporter": "python",
   "pygments_lexer": "ipython3",
   "version": "3.8.10"
  }
 },
 "nbformat": 4,
 "nbformat_minor": 1
}
